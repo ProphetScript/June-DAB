{
 "cells": [
  {
   "cell_type": "code",
   "execution_count": null,
   "id": "287fd94f-e5a0-45f9-9eff-74e19340f84a",
   "metadata": {},
   "outputs": [],
   "source": [
    "#Task 1: Basic if Statement\n",
    "#Task 2: if-else Statement\n",
    "#Task 3: if-elif-else Statement\n",
    "#Task 4: Nested Conditionals\n",
    "#Task 5: Ternary Operator\n",
    "#Task 6: Combining Conditions\n",
    "#Task 7: Best Practices (Refactoring)"
   ]
  },
  {
   "cell_type": "code",
   "execution_count": 206,
   "id": "ec1403bf-1f30-4ace-92f7-654f6111a1f4",
   "metadata": {},
   "outputs": [
    {
     "name": "stdout",
     "output_type": "stream",
     "text": [
      "number is positive\n"
     ]
    }
   ],
   "source": [
    "#Task 1: Basic if Statement\n",
    "\n",
    "def check_positive(number):          #Function that Identifies Positive vs Neagtive numbers  \n",
    "    if number > 0:\n",
    "        print(\"number is positive\")\n",
    "\n",
    "check_positive(90)"
   ]
  },
  {
   "cell_type": "code",
   "execution_count": 203,
   "id": "ea7d61f1-39d1-411b-8173-764a9cc8fd90",
   "metadata": {},
   "outputs": [
    {
     "name": "stdout",
     "output_type": "stream",
     "text": [
      "passing\n",
      "failure\n"
     ]
    }
   ],
   "source": [
    "#Task 2: if-else Statement\n",
    "\n",
    "def grade_pass_fail(Grade):           #Function that Identifies Passing vs Failure\n",
    "    if Grade >= 70:                \n",
    "        print(\"passing\")\n",
    "    else: print(\"failure\")\n",
    "\n",
    "grade_pass_fail(80)\n",
    "grade_pass_fail(41.99)"
   ]
  },
  {
   "cell_type": "code",
   "execution_count": 202,
   "id": "f3409804-6467-4824-a30f-eaf8d340440e",
   "metadata": {},
   "outputs": [
    {
     "name": "stdout",
     "output_type": "stream",
     "text": [
      "B\n",
      "C\n"
     ]
    }
   ],
   "source": [
    "#Task 3: If-elif-else Statement\n",
    "\n",
    "def Scorebook(score):                  #Function that Identifies Score and letter grade\n",
    "    if score >= 90:\n",
    "        print(\"A\")\n",
    "    elif score >= 80:\n",
    "        print(\"B\")\n",
    "    elif score >= 70:\n",
    "        print(\"C\")\n",
    "    elif score >= 60:\n",
    "        print(\"D\")\n",
    "    else:\n",
    "        print(\"F\")\n",
    "\n",
    "\n",
    "Scorebook(80)\n",
    "Scorebook(75.20)\n"
   ]
  },
  {
   "cell_type": "code",
   "execution_count": 1,
   "id": "7b3b0db1-ce52-4627-bc5f-d6c5089e21f0",
   "metadata": {},
   "outputs": [
    {
     "name": "stdout",
     "output_type": "stream",
     "text": [
      "Welcome, Premium\n"
     ]
    }
   ],
   "source": [
    "#Task 4: Nested Conditionals\n",
    "\n",
    "\n",
    "admin_users = {\"Kris\", \"Kyle\"}\n",
    "basic_users = {\"Jak\", \"Josh\", \"James\", \"Phil\"}\n",
    "premium_users = {\"Jeremiah\"}\n",
    "\n",
    "def check_access(username):          #Function that Identifies User accessibility\n",
    "    if username in admin_users or username in premium_users or username in basic_users:\n",
    "        if username in admin_users:\n",
    "            print(\"Welcome, Admin\")\n",
    "        else:\n",
    "            if username in premium_users:\n",
    "                print(\"Welcome, Premium\")\n",
    "            else:\n",
    "                print(\"Welcome, Basic user\")\n",
    "    else:\n",
    "        print(\"Hell nah\")\n",
    "\n",
    "\n",
    "check_access(\"Jeremiah\")"
   ]
  },
  {
   "cell_type": "code",
   "execution_count": 12,
   "id": "8bc74911-6a93-4a0f-97b5-949a3829ce61",
   "metadata": {},
   "outputs": [
    {
     "name": "stdout",
     "output_type": "stream",
     "text": [
      "odd\n",
      "even\n"
     ]
    }
   ],
   "source": [
    "#Task 5: Ternary Operator\n",
    "\n",
    "def check_even_odd(number):           #Function that Identifies Odd vs Even numbers\n",
    "    if number % 2 == 0:\n",
    "        print(\"even\")\n",
    "    else: print(\"odd\")\n",
    "\n",
    "check_even_odd(9) #Expected result odd\n",
    "\n",
    "check_even_odd(8) #Expected result even"
   ]
  },
  {
   "cell_type": "code",
   "execution_count": 7,
   "id": "7a37a5e7-272e-40cd-bd2a-a2ced20735a3",
   "metadata": {},
   "outputs": [
    {
     "name": "stdout",
     "output_type": "stream",
     "text": [
      "Is leap year\n"
     ]
    }
   ],
   "source": [
    "#Task 6: Combining Conditions\n",
    "\n",
    "def is_leap_year(year):               #Function that Identifies Leap year vs non-Leap Year\n",
    "    if (year % 4 == 0 and year %100 != 0) or (year % 400 == 0):\n",
    "        print(\"Is leap year\")\n",
    "    else:\n",
    "        print(\"Not leap year\")\n",
    "\n",
    "is_leap_year(1992)"
   ]
  },
  {
   "cell_type": "code",
   "execution_count": 11,
   "id": "b4e0254f-d704-4f0e-991e-9db4c1d68e13",
   "metadata": {},
   "outputs": [],
   "source": [
    "#Task 7: Best Practices (Refactoring)\n",
    "\n",
    "                                      #Refactored Function simplifying given code in worksheet\n",
    "def classify_item(item_type: str, price: float, in_stock: bool):\n",
    "        if item_type == \"electronics\":\n",
    "            print(\"Electronics\")\n",
    "        else: \n",
    "            print(\"non-electronics\")\n",
    "        if price < 100:\n",
    "            print(\"Affordable\")\n",
    "        else:\n",
    "            \"Premium\"\n",
    "        if availabilty == True:\n",
    "            print(\"In strock\")\n",
    "        else:\n",
    "            print(\"Out of stock\")\n"
   ]
  }
 ],
 "metadata": {
  "kernelspec": {
   "display_name": "Python [conda env:base] *",
   "language": "python",
   "name": "conda-base-py"
  },
  "language_info": {
   "codemirror_mode": {
    "name": "ipython",
    "version": 3
   },
   "file_extension": ".py",
   "mimetype": "text/x-python",
   "name": "python",
   "nbconvert_exporter": "python",
   "pygments_lexer": "ipython3",
   "version": "3.13.5"
  }
 },
 "nbformat": 4,
 "nbformat_minor": 5
}
