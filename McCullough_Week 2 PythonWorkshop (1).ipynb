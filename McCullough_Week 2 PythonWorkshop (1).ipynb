{
 "cells": [
  {
   "cell_type": "markdown",
   "id": "3a8f0b78-37dd-48c6-aaf5-dafabebfc5d4",
   "metadata": {},
   "source": [
    "# Python Data Analytics Workshop\n",
    "\n",
    "## Introduction\n",
    "This workshop is designed to reinforce the key concepts covered in the Python Data Analytics Bootcamp. We'll go through a series of exercises covering:\n",
    "- Conditional Statements\n",
    "- Functions\n",
    "- Lists\n",
    "- Dictionaries\n",
    "- Loops\n",
    "\n",
    "Let's get started!"
   ]
  },
  {
   "cell_type": "code",
   "execution_count": 363,
   "id": "176fa6e1-f85f-4d56-a2ca-9f936b5655ec",
   "metadata": {},
   "outputs": [
    {
     "name": "stdout",
     "output_type": "stream",
     "text": [
      "5 is positive\n"
     ]
    }
   ],
   "source": [
    "## Part 1: Conditional Statements\n",
    "### Basic if statement\n",
    "# Let's check if a number is positive, negative, or zero\n",
    "number = 5\n",
    "\n",
    "if number > 0:\n",
    "    print(f\"{number} is positive\")\n",
    "elif number < 0:\n",
    "    print(f\"{number} is negative\")\n",
    "else:\n",
    "    print(f\"{number} is zero\")"
   ]
  },
  {
   "cell_type": "code",
   "execution_count": 364,
   "id": "a6988376-daef-43cd-b434-e366632d435c",
   "metadata": {},
   "outputs": [
    {
     "name": "stdout",
     "output_type": "stream",
     "text": [
      "-902.7 is negative\n"
     ]
    }
   ],
   "source": [
    "# Try changing this value\n",
    "number = -902.7\n",
    "\n",
    "if number > 0:\n",
    "    print(f\"{number} is positive\")\n",
    "elif number < 0:\n",
    "    print(f\"{number} is negative\")\n",
    "else:\n",
    "    print(f\"{number} is zero\")"
   ]
  },
  {
   "cell_type": "code",
   "execution_count": 1,
   "id": "0a9a40bb-329b-43c0-9945-e68fb8f74b38",
   "metadata": {},
   "outputs": [
    {
     "name": "stdout",
     "output_type": "stream",
     "text": [
      "Score: 95, Grade: A\n",
      "Score: 82, Grade: B\n",
      "Score: 71, Grade: C\n",
      "Score: 65, Grade: D\n",
      "Score: 55, Grade: F\n"
     ]
    }
   ],
   "source": [
    "### Exercise 1: Grade Calculator\n",
    "# Write a program that converts a numerical score to a letter grade\n",
    "# 90-100: A\n",
    "# 80-89: B\n",
    "# 70-79: C\n",
    "# 60-69: D\n",
    "# Below 60: F\n",
    "\n",
    "def calculate_grade(score):\n",
    "    if score <= 100 and score >= 0:\n",
    "        if score >= 90:\n",
    "            return (\"A\")\n",
    "        elif 80 <= score <= 89:\n",
    "            return (\"B\")\n",
    "        elif 70 <= score <= 79:\n",
    "            return (\"C\")\n",
    "        elif 60 <= score <= 69:\n",
    "            return (\"D\")\n",
    "        else:\n",
    "            return (\"F\")\n",
    "    else:\n",
    "        print(\"Grade Error\")\n",
    "      \n",
    "\n",
    "# Test your function\n",
    "test_scores = [95, 82, 71, 65, 55,]\n",
    "for score in test_scores:\n",
    "    print(f\"Score: {score}, Grade: {calculate_grade(score)}\")\n"
   ]
  },
  {
   "cell_type": "code",
   "execution_count": 366,
   "id": "f42937ba-cf86-4db6-9a8d-21ae46b57edc",
   "metadata": {},
   "outputs": [
    {
     "name": "stdout",
     "output_type": "stream",
     "text": [
      "No discount\n",
      "Original price: $50, Final price: $None\n",
      "Original price: $150, Final price: $135.0\n",
      "Original price: $600, Final price: $480.0\n",
      "Original price: $1200, Final price: $840.0\n"
     ]
    }
   ],
   "source": [
    "### Exercise 2: Discount Calculator\n",
    "# Write a function that calculates the final price after applying a discount\n",
    "# If the purchase amount is $100 or more, apply a 10% discount\n",
    "# If the purchase amount is $500 or more, apply a 20% discount\n",
    "# If the purchase amount is $1000 or more, apply a 30% discount\n",
    "\n",
    "\n",
    "def calculate_discount(amount):\n",
    "    if amount >= 0:\n",
    "        if 100 <= amount <= 499.99:\n",
    "            return (amount - (amount*0.10))\n",
    "        elif 500 <= amount <= 999.99:\n",
    "             return (amount - (amount*0.20))\n",
    "        elif 1000 <= amount:\n",
    "             return (amount - (amount*0.30))\n",
    "        else:\n",
    "            print(\"No discount\")\n",
    "    else:\n",
    "        print(\"Clerical Error\")\n",
    "\n",
    "# Test your function\n",
    "purchase_amounts = [50, 150, 600, 1200]\n",
    "for amount in purchase_amounts:\n",
    "    print(f\"Original price: ${amount}, Final price: ${calculate_discount(amount)}\")"
   ]
  },
  {
   "cell_type": "code",
   "execution_count": 367,
   "id": "1250743d-196f-433f-8364-c054f663bbe7",
   "metadata": {},
   "outputs": [
    {
     "name": "stdout",
     "output_type": "stream",
     "text": [
      "Hello, Jeremiah!\n",
      "Hello, James!\n",
      "Hello, Joshua!\n"
     ]
    }
   ],
   "source": [
    "## Part 2: Functions\n",
    "### Basic function definition\n",
    "\n",
    "name = [\"Jeremiah\", \"James\", \"Joshua\"]  \n",
    "\n",
    "def greet_user(name):\n",
    "    return(f\"Hello, {name}!\")\n",
    "   \n",
    "\n",
    "# Call the function\n",
    "print (greet_user(\"Jeremiah\"))\n",
    "print (greet_user(\"James\"))\n",
    "print (greet_user(\"Joshua\"))"
   ]
  },
  {
   "cell_type": "code",
   "execution_count": 368,
   "id": "e9fc5c36-19f7-4359-9839-f8f85a2f67ca",
   "metadata": {},
   "outputs": [
    {
     "name": "stdout",
     "output_type": "stream",
     "text": [
      "0°C = 32.0°F\n",
      "25°C = 77.0°F\n",
      "37°C = 98.6°F\n",
      "100°C = 212.0°F\n"
     ]
    }
   ],
   "source": [
    "### Exercise 3: Temperature Converter\n",
    "# Write a function that converts temperature from Celsius to Fahrenheit\n",
    "# Formula: F = C * 9/5 + 32\n",
    "\n",
    "def celsius_to_fahrenheit(C):\n",
    "   return C * 9/5 + 32\n",
    "\n",
    "# Test your function\n",
    "temperatures_c = [0, 25, 37, 100]\n",
    "for temp in temperatures_c:\n",
    "    print(f\"{temp}°C = {celsius_to_fahrenheit(temp):.1f}°F\")"
   ]
  },
  {
   "cell_type": "code",
   "execution_count": 369,
   "id": "b2e220f3-5775-4d25-94e4-2de04ba930e1",
   "metadata": {},
   "outputs": [
    {
     "name": "stdout",
     "output_type": "stream",
     "text": [
      "15\n",
      "5\n",
      "50\n",
      "2.0\n"
     ]
    }
   ],
   "source": [
    "### Exercise 4: Calculator Function\n",
    "# Write a function that takes two numbers and an operation as parameters\n",
    "# Supported operations: add, subtract, multiply, divide\n",
    "# Return the result of the operation\n",
    "num1 = 10\n",
    "num2 = 5\n",
    "operation = [\"add\", \"subtract\", \"multiply\", \"divide\"]\n",
    "\n",
    "def calculator(num1, num2, operation):\n",
    "    if operation == \"add\":\n",
    "        return num1+num2\n",
    "    elif operation == \"subtract\":\n",
    "        return num1-num2\n",
    "    elif operation == \"multiply\":\n",
    "        return num1*num2\n",
    "    elif operation == \"divide\":\n",
    "        return num1/num2\n",
    "        \n",
    "    \n",
    "    \n",
    "\n",
    "# Test your function\n",
    "print(calculator(10, 5, \"add\"))      # Should return 15\n",
    "print(calculator(10, 5, \"subtract\")) # Should return 5\n",
    "print(calculator(10, 5, \"multiply\")) # Should return 50\n",
    "print(calculator(10, 5, \"divide\"))   # Should return 2"
   ]
  },
  {
   "cell_type": "code",
   "execution_count": 370,
   "id": "981d70b8-bfd4-487d-a8f5-ad6f4ba65dfe",
   "metadata": {},
   "outputs": [
    {
     "ename": "ZeroDivisionError",
     "evalue": "division by zero",
     "output_type": "error",
     "traceback": [
      "\u001b[1;31m---------------------------------------------------------------------------\u001b[0m",
      "\u001b[1;31mZeroDivisionError\u001b[0m                         Traceback (most recent call last)",
      "Cell \u001b[1;32mIn[370], line 1\u001b[0m\n\u001b[1;32m----> 1\u001b[0m \u001b[38;5;28mprint\u001b[39m(calculator(\u001b[38;5;241m10\u001b[39m, \u001b[38;5;241m0\u001b[39m, \u001b[38;5;124m\"\u001b[39m\u001b[38;5;124mdivide\u001b[39m\u001b[38;5;124m\"\u001b[39m))\n",
      "Cell \u001b[1;32mIn[369], line 17\u001b[0m, in \u001b[0;36mcalculator\u001b[1;34m(num1, num2, operation)\u001b[0m\n\u001b[0;32m     15\u001b[0m     \u001b[38;5;28;01mreturn\u001b[39;00m num1\u001b[38;5;241m*\u001b[39mnum2\n\u001b[0;32m     16\u001b[0m \u001b[38;5;28;01melif\u001b[39;00m operation \u001b[38;5;241m==\u001b[39m \u001b[38;5;124m\"\u001b[39m\u001b[38;5;124mdivide\u001b[39m\u001b[38;5;124m\"\u001b[39m:\n\u001b[1;32m---> 17\u001b[0m     \u001b[38;5;28;01mreturn\u001b[39;00m num1\u001b[38;5;241m/\u001b[39mnum2\n",
      "\u001b[1;31mZeroDivisionError\u001b[0m: division by zero"
     ]
    }
   ],
   "source": [
    "print(calculator(10, 0, \"divide\"))   # Should return an error\n",
    "                                    #Running this code does infact return a \"Zero division Error\""
   ]
  },
  {
   "cell_type": "code",
   "execution_count": 78,
   "id": "66e03861-9786-48d2-a4cb-0691ff9470c4",
   "metadata": {},
   "outputs": [
    {
     "name": "stdout",
     "output_type": "stream",
     "text": [
      "['Pineapple', 'Melon', 'Cantaloupe', 'Carrot']\n",
      "Pineapple\n",
      "Carrot\n",
      "['Pineapple', 'Melon', 'Cranberry', 'Carrot']\n",
      "['Pineapple', 'Melon', 'Cranberry', 'Carrot', 'Cake']\n",
      "Removed Pineapple, List now: ['Melon', 'Cranberry', 'Carrot', 'Cake']\n"
     ]
    }
   ],
   "source": [
    "## Part 3: Lists\n",
    "\n",
    "### Basic list operations\n",
    "fruits = [\"Pineapple\", \"Melon\", \"Cantaloupe\", \"Carrot\"]\n",
    "print(fruits)\n",
    "\n",
    "# Accessing elements\n",
    "print(fruits[0])\n",
    "print(fruits[-1])\n",
    "\n",
    "# Modifying the list\n",
    "fruits[2] = \"Cranberry\"\n",
    "print(fruits)\n",
    "\n",
    "# Adding elements\n",
    "fruits.append(\"Cake\")\n",
    "print(fruits)\n",
    "\n",
    "# Removing elements\n",
    "removed_fruit =fruits.pop(0)\n",
    "print(f\"Removed {removed_fruit}, List now:\", fruits)"
   ]
  },
  {
   "cell_type": "code",
   "execution_count": 7,
   "id": "35872f9d-2e67-4613-93e3-629674c29aeb",
   "metadata": {},
   "outputs": [
    {
     "name": "stdout",
     "output_type": "stream",
     "text": [
      "The minimum is 5, the maximum is 42, the sum is 106, and the average is 17.67\n"
     ]
    }
   ],
   "source": [
    "### Exercise 5: List Statistics\n",
    "# Write a function that takes a list of numbers and returns a dictionary with:\n",
    "# - The minimum value\n",
    "# - The maximum value\n",
    "# - The average value\n",
    "# - The sum of all values\n",
    "\n",
    "def calculate_statistics(numbers):\n",
    "    return min(numbers), max(numbers), sum(numbers), sum(numbers)/len(numbers)\n",
    "    if not numbers:\n",
    "        return {\n",
    "            \"min\": None,\n",
    "            \"max\": None,\n",
    "            \"average\": None,\n",
    "            \"sum\": None\n",
    "        }\n",
    "# Test your function\n",
    "test_numbers = [5, 12, 8, 42, 23, 16]\n",
    "def calculate_statistics(numbers):\n",
    "    return f\"The minimum is {min(numbers)}, the maximum is {max(numbers)}, the sum is {sum(numbers)}, and the average is {sum(numbers)/len(numbers):.2f}\"\n",
    "print(calculate_statistics(test_numbers))\n",
    "    \n"
   ]
  },
  {
   "cell_type": "code",
   "execution_count": 9,
   "id": "e4053a7d-21e0-47a1-97c1-3393e67415d8",
   "metadata": {},
   "outputs": [
    {
     "name": "stdout",
     "output_type": "stream",
     "text": [
      "Even numbers: [10, 42, 58, 6, 72, 88]\n"
     ]
    }
   ],
   "source": [
    "### Exercise 6: List Filtering\n",
    "# Write a function that takes a list of numbers and returns a new list containing only even numbers\n",
    "\n",
    "def filter_even_numbers(numbers):\n",
    "     return [num for num in numbers if num % 2 == 0]\n",
    "   \n",
    "\n",
    "# Test your function\n",
    "numbers = [10, 21, 33, 42, 58, 6, 72, 88, 93, 107]\n",
    "even_numbers = filter_even_numbers(numbers)\n",
    "print(\"Even numbers:\", even_numbers)"
   ]
  },
  {
   "cell_type": "code",
   "execution_count": 98,
   "id": "f24e4b87-e552-482f-b7dc-4f108a96598b",
   "metadata": {},
   "outputs": [
    {
     "name": "stdout",
     "output_type": "stream",
     "text": [
      "Student info: {'name': 'Jeremiah', 'age': 31, 'major': 'Data Analyst', 'gpa': 4.0}\n",
      "Name: Jeremiah\n",
      "Major: Data Analyst\n",
      "Updated student info: {'name': 'Jeremiah', 'age': 31, 'major': 'Data Analyst', 'gpa': 4.1, 'year': 'Boot Camp'}\n",
      "Redacted Name: Jeremiah, Student info now: {'age': 31, 'major': 'Data Analyst', 'gpa': 4.1, 'year': 'Boot Camp'}\n"
     ]
    }
   ],
   "source": [
    "## Part 4: Dictionaries\n",
    "### Basic dictionary operations\n",
    "\n",
    "student = {\"name\": \"Jeremiah\", \"age\": 31, \"major\": \"Data Analyst\", \"gpa\": 4.0}\n",
    "\n",
    "print(\"Student info:\", student)\n",
    "\n",
    "# Accessing values\n",
    "print(\"Name:\", student[\"name\"])\n",
    "print(\"Major:\", student[\"major\"])\n",
    "\n",
    "# Adding or modifying key-value pairs\n",
    "student[\"year\"] = \"Boot Camp\"\n",
    "student[\"gpa\"] = 4.1\n",
    "print(\"Updated student info:\", student)\n",
    "\n",
    "# Removing key-value pairs\n",
    "removed_name = student.pop(\"name\")\n",
    "print(f\"Redacted Name: {removed_name}, Student info now:\", student)"
   ]
  },
  {
   "cell_type": "code",
   "execution_count": 14,
   "id": "f26fd619-b276-494d-9b18-69bd150076e5",
   "metadata": {},
   "outputs": [
    {
     "name": "stdout",
     "output_type": "stream",
     "text": [
      "Word counts: {'the': 4, 'quick': 2, 'brown': 1, 'fox': 2, 'jumps': 1, 'over': 1, 'lazy': 1, 'dog.': 1, 'was': 2, 'and': 1, 'dog': 1, 'lazy.': 1}\n"
     ]
    }
   ],
   "source": [
    "### Exercise 7: Word Counter\n",
    "# Write a function that takes a string and returns a dictionary with each word as a key\n",
    "# and the number of occurrences as the value\n",
    "\n",
    "def count_words(text):\n",
    "    words = text.strip(\".,!?;:\\\"'()\")\n",
    "    words = text.split()\n",
    "    word_count = {}\n",
    "    for word in words:\n",
    "        if word in word_count:\n",
    "            word_count[word] += 1\n",
    "        else:\n",
    "            word_count[word] = 1\n",
    "    return word_count\n",
    "\n",
    "\n",
    "# Test your function\n",
    "text = \"the quick brown fox jumps over the lazy dog. the fox was quick and the dog was lazy.\"\n",
    "word_counts = count_words(text)\n",
    "print(\"Word counts:\", word_counts)"
   ]
  },
  {
   "cell_type": "code",
   "execution_count": 249,
   "id": "22f93072-bad5-4c8f-9cf1-8cfb7d38ef6e",
   "metadata": {},
   "outputs": [
    {
     "name": "stdout",
     "output_type": "stream",
     "text": [
      "Contact Alice Phone number:555-1234 Email:alice@example.com\n"
     ]
    },
    {
     "data": {
      "text/plain": [
       "{'phone': '555-1234', 'email': 'alice@example.com'}"
      ]
     },
     "execution_count": 249,
     "metadata": {},
     "output_type": "execute_result"
    }
   ],
   "source": [
    "### Exercise 8: Contact Manager\n",
    "# Create a small contact manager that lets you add, update, and retrieve contact information\n",
    "contact_book ={}\n",
    "\n",
    "def add_contact(name, phone, email):\n",
    "    contact_book[name] = {\"phone\": phone, \"email\": email}\n",
    "    print(f\"Contact {name} Phone number:{phone} Email:{email}\")\n",
    "\n",
    "def update_contact(name, phone= None, email=None):\n",
    "    contact_book[name][\"phone\"] = phone\n",
    "    contact_book[name][\"email\"] = email\n",
    "\n",
    "def get_contact(name):\n",
    "    return contact_book.get(name, f\"Contact {name} not found\")\n",
    "\n",
    "# Test your contact manager\n",
    "add_contact(\"Alice\", \"555-1234\", \"alice@example.com\")\n",
    "get_contact(\"Alice\")\n"
   ]
  },
  {
   "cell_type": "code",
   "execution_count": 250,
   "id": "451a0b25-be22-4023-8207-cccd00a80906",
   "metadata": {},
   "outputs": [
    {
     "name": "stdout",
     "output_type": "stream",
     "text": [
      "Contact Bob Phone number:555-5678 Email:None\n"
     ]
    },
    {
     "data": {
      "text/plain": [
       "{'phone': '555-1234', 'email': 'alice.new@example.com'}"
      ]
     },
     "execution_count": 250,
     "metadata": {},
     "output_type": "execute_result"
    }
   ],
   "source": [
    "# Test your contact manager Cont'd\n",
    "add_contact(\"Bob\", \"555-5678\",None)\n",
    "update_contact(\"Alice\", \"555-1234\",email=\"alice.new@example.com\")\n",
    "get_contact(\"Alice\")\n",
    "\n",
    "\n",
    "\n"
   ]
  },
  {
   "cell_type": "code",
   "execution_count": 251,
   "id": "c31c39ac-6d49-43df-a494-d22ea4cd9add",
   "metadata": {},
   "outputs": [
    {
     "data": {
      "text/plain": [
       "'Contact Charlie not found'"
      ]
     },
     "execution_count": 251,
     "metadata": {},
     "output_type": "execute_result"
    }
   ],
   "source": [
    "# Test your contact manager Cont'd\n",
    "get_contact(\"Charlie\")"
   ]
  },
  {
   "cell_type": "code",
   "execution_count": 271,
   "id": "7a60d897-fb8e-40c2-ba3f-cdb96835dbaa",
   "metadata": {},
   "outputs": [
    {
     "name": "stdout",
     "output_type": "stream",
     "text": [
      "Iterating through a list:\n",
      "I love my pet Old Yeller\n",
      "I love my pet Beethoven\n",
      "I love my pet Air Bud\n",
      "I love my pet Perry the Pladipus\n",
      "\n",
      "Using range():\n",
      "Number: 0\n",
      "Number: 1\n",
      "Number: 2\n",
      "Number: 3\n",
      "Number: 4\n",
      "Number: 5\n",
      "Number: 6\n",
      "Number: 7\n",
      "\n",
      "Using a while loop:\n",
      "Count: 0\n",
      "Count: 1\n",
      "Count: 2\n",
      "Count: 3\n",
      "Count: 4\n",
      "Count: 5\n",
      "Count: 6\n",
      "Count: 7\n",
      "Count: 8\n"
     ]
    }
   ],
   "source": [
    "## Part 5: Loops\n",
    "### For loop with a list\n",
    "print(\"Iterating through a list:\")\n",
    "my_pets= [\"Old Yeller\", \"Beethoven\", \"Air Bud\", \"Perry the Pladipus\"]\n",
    "for Pet in my_pets:\n",
    "    print(f\"I love my pet {Pet}\")\n",
    "\n",
    "### For loop with range\n",
    "print(\"\\nUsing range():\")\n",
    "for i in range(8):\n",
    "    print(f\"Number: {i}\")\n",
    "\n",
    "### While loop\n",
    "print(\"\\nUsing a while loop:\")\n",
    "count = 0\n",
    "while count < 9:\n",
    "    print(f\"Count: {count}\")\n",
    "    count += 1"
   ]
  },
  {
   "cell_type": "code",
   "execution_count": 1,
   "id": "765810a0-40ee-492d-83fa-fe47f5e18d44",
   "metadata": {},
   "outputs": [
    {
     "name": "stdout",
     "output_type": "stream",
     "text": [
      "Factorial of 0 = 1\n",
      "Factorial of 1 = 1\n",
      "Factorial of 2 = 2\n",
      "Factorial of 3 = 6\n",
      "Factorial of 4 = 24\n",
      "Factorial of 5 = 120\n",
      "Factorial of 6 = 720\n",
      "Factorial of 7 = 5040\n",
      "Factorial of 8 = 40320\n",
      "Factorial of 9 = 362880\n"
     ]
    }
   ],
   "source": [
    "### Exercise 9: Factorial Calculator\n",
    "# Write a function that calculates the factorial of a number using a loop\n",
    "# Factorial of n = n * (n-1) * (n-2) * ... * 1\n",
    "\n",
    "def factorial(n):\n",
    "    if n == 0:\n",
    "        return 1\n",
    "    else:\n",
    "        fact = 1\n",
    "        for i in range(1, n + 1):\n",
    "            fact *= i\n",
    "        return fact\n",
    "    \n",
    "# Test your function\n",
    "for num in range(10):\n",
    "    print(f\"Factorial of {num} = {factorial(num)}\")"
   ]
  },
  {
   "cell_type": "code",
   "execution_count": 356,
   "id": "f52b7fff-72a9-4cd9-85a0-6db48b0f8f5a",
   "metadata": {},
   "outputs": [
    {
     "name": "stdout",
     "output_type": "stream",
     "text": [
      "\n",
      "Student Analysis:\n",
      "Lancer: 90.00\n",
      "Billy: 86.50\n",
      "Cameron: 94.00\n",
      "Luke: 85.75\n",
      "\n",
      "Top Student: Cameron with average of 94.00\n"
     ]
    }
   ],
   "source": [
    "### Exercise 10: Data Analysis\n",
    "# You're given a list of dictionaries, each representing a student's score on different tests.\n",
    "\n",
    "students_data = [\n",
    "    {\"First name\": \"Lancer\", \"Scores\": [88, 92, 95, 85]},\n",
    "    {\"First name\": \"Billy\", \"Scores\": [90, 87, 88, 81]},\n",
    "    {\"First name\": \"Cameron\", \"Scores\": [92, 95, 96, 93]},\n",
    "    {\"First name\": \"Luke\", \"Scores\": [78, 85, 91, 89]}\n",
    "]\n",
    "\n",
    "def analyze_student_scores():\n",
    "    student_averages = {}\n",
    "    top_average = 0\n",
    "    top_student = \"\"\n",
    "\n",
    "    print(\"\\nStudent Analysis:\")\n",
    "    for student in students_data:\n",
    "        first_name = student[\"First name\"]\n",
    "        scores = student[\"Scores\"]\n",
    "        average = sum(scores) / len(scores)\n",
    "        student_averages[first_name] = average\n",
    "        print(f\"{first_name}: {average:.2f}\")\n",
    "\n",
    "        if average > top_average:\n",
    "            top_average = average\n",
    "            top_student = first_name\n",
    "\n",
    "    return {\"individual_averages\": student_averages,\"top_student\": top_student,\"top_average\": top_average}\n",
    "\n",
    "#Test your function\n",
    "analysis = analyze_student_scores()\n",
    "\n",
    "print(f\"\\nTop Student: {analysis['top_student']} with average of {analysis['top_average']:.2f}\")"
   ]
  },
  {
   "cell_type": "code",
   "execution_count": 15,
   "id": "2005be44-63f8-4a38-9436-bd8543e5e551",
   "metadata": {},
   "outputs": [
    {
     "name": "stdout",
     "output_type": "stream",
     "text": [
      "\n",
      "Sales Analysis:\n",
      "Monthly Sales:\n",
      "  Jan: $147880\n",
      "  Feb: $29979\n",
      "  Mar: $35906\n",
      "\n",
      "Category Sales:\n",
      "  Houses: $118510\n",
      "  Cars: $71826\n",
      "  Land: $23429\n",
      "\n",
      "Best Month: Jan with $147880\n",
      "Best Category: Houses with $118510\n",
      "Total Sales: $213765\n"
     ]
    }
   ],
   "source": [
    "## Final Challenge: Sales Data Analysis\n",
    "\n",
    "# You're given a list of dictionaries representing monthly sales data for a store.\n",
    "# Each dictionary contains the month, category, and sales amount.\n",
    "\n",
    "sales_data = [\n",
    "    {\"month\": \"Jan\", \"category\": \"Houses\", \"amount\": 92000},\n",
    "    {\"month\": \"Jan\", \"category\": \"Cars\", \"amount\": 55000},\n",
    "    {\"month\": \"Jan\", \"category\": \"Land\", \"amount\": 880},\n",
    "    {\"month\": \"Feb\", \"category\": \"Houses\", \"amount\": 10450},\n",
    "    {\"month\": \"Feb\", \"category\": \"Cars\", \"amount\": 9020},\n",
    "    {\"month\": \"Feb\", \"category\": \"Land\", \"amount\": 10509},\n",
    "    {\"month\": \"Mar\", \"category\": \"Houses\", \"amount\": 16060},\n",
    "    {\"month\": \"Mar\", \"category\": \"Cars\", \"amount\": 7806},\n",
    "    {\"month\": \"Mar\", \"category\": \"Land\", \"amount\": 12040}\n",
    "]\n",
    "\n",
    "def analyze_sales(sales):\n",
    "    # Step 1 Calculate total sales per month\n",
    "    monthly_sales = {}\n",
    "    category_sales = {}\n",
    "    total_sales = 0\n",
    "    #Monthly sales\n",
    "    for record in sales:\n",
    "        month = record[\"month\"]\n",
    "        category = record[\"category\"]\n",
    "        amount = record[\"amount\"]\n",
    "    #Category sales\n",
    "        if month not in monthly_sales:\n",
    "            monthly_sales[month] = 0\n",
    "        monthly_sales[month] += amount\n",
    "    #Then Total Sales\n",
    "        if category not in category_sales:\n",
    "            category_sales[category] = 0\n",
    "        category_sales[category] += amount\n",
    "        total_sales += amount\n",
    "    #Finally Identify the Best selling month\n",
    "    best_month = max(monthly_sales, key=monthly_sales.get)\n",
    "    best_category = max(category_sales, key=category_sales.get)\n",
    "    #Total sales\n",
    "    return {\"monthly_sales\": monthly_sales,\"category_sales\": category_sales,\"best_month\": best_month,\"best_category\": best_category,\"total_sales\": total_sales}\n",
    "\n",
    "\n",
    "# Test your analysis function\n",
    "sales_analysis = analyze_sales(sales_data)\n",
    "print(\"\\nSales Analysis:\")\n",
    "print(\"Monthly Sales:\")\n",
    "for month, amount in sales_analysis[\"monthly_sales\"].items():\n",
    "    print(f\"  {month}: ${amount}\")\n",
    "print(\"\\nCategory Sales:\")\n",
    "for category, amount in sales_analysis[\"category_sales\"].items():\n",
    "    print(f\"  {category}: ${amount}\")\n",
    "print(f\"\\nBest Month: {sales_analysis['best_month']} with ${sales_analysis['monthly_sales'][sales_analysis['best_month']]}\")\n",
    "print(f\"Best Category: {sales_analysis['best_category']} with ${sales_analysis['category_sales'][sales_analysis['best_category']]}\")\n",
    "print(f\"Total Sales: ${sales_analysis['total_sales']}\")"
   ]
  },
  {
   "cell_type": "markdown",
   "id": "2cf4fe31-f71d-46dd-bbd0-0cbf1f1258a8",
   "metadata": {},
   "source": [
    "## Congratulations on completing the Python Data Analytics Workshop!\n",
    "## Key concepts covered:\n",
    " - Conditional statements (if-elif-else)\n",
    " - Functions and parameters\n",
    " - Lists and list operations\n",
    " - Dictionaries and dictionary operations\n",
    " - For and while loops\n",
    " - Data analysis with Python"
   ]
  }
 ],
 "metadata": {
  "kernelspec": {
   "display_name": "Python [conda env:base] *",
   "language": "python",
   "name": "conda-base-py"
  },
  "language_info": {
   "codemirror_mode": {
    "name": "ipython",
    "version": 3
   },
   "file_extension": ".py",
   "mimetype": "text/x-python",
   "name": "python",
   "nbconvert_exporter": "python",
   "pygments_lexer": "ipython3",
   "version": "3.13.5"
  }
 },
 "nbformat": 4,
 "nbformat_minor": 5
}
