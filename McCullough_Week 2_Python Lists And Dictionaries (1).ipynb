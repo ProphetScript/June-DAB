{
 "cells": [
  {
   "cell_type": "code",
   "execution_count": null,
   "id": "1b0673d4-29ee-42ba-9e8e-8c98494beffe",
   "metadata": {},
   "outputs": [],
   "source": [
    "# Exercise 1: Lists and Dictionaries\n",
    "\n",
    "\"\"\"\n",
    "Instructions:\n",
    "1. Create a shopping list with at least 5 items\n",
    "2. Print out the third item in the list\n",
    "3. Replace the first item with a different item\n",
    "4. Add an item to the end of the list\n",
    "5. Create a dictionary of 3 grocery items with their prices\n",
    "6. Print a message showing one item and its price\n",
    "7. Add a new item to the dictionary with its price\n",
    "8. Calculate and print the total cost of all items\n",
    "\"\"\""
   ]
  },
  {
   "cell_type": "code",
   "execution_count": 2,
   "id": "e1ab2456-5423-4876-8b94-63d27c93e14c",
   "metadata": {},
   "outputs": [
    {
     "name": "stdout",
     "output_type": "stream",
     "text": [
      "oranges\n"
     ]
    }
   ],
   "source": [
    "# Your solution here:\n",
    "\n",
    "#Task 1: Create a shopping list with at least 5 items\n",
    "My_list = [\"apples\",\"bananas\", \"oranges\", \"berries\", \"cereal\"]\n",
    "\n",
    "#Task 2: Print out the third item in the list\n",
    "print(My_list[2])"
   ]
  },
  {
   "cell_type": "code",
   "execution_count": 3,
   "id": "99cde5ec-2005-41fa-bd68-d2981925c064",
   "metadata": {},
   "outputs": [
    {
     "name": "stdout",
     "output_type": "stream",
     "text": [
      "['Juice', 'bananas', 'oranges', 'berries', 'cereal']\n"
     ]
    }
   ],
   "source": [
    "#Task 3: Replace the first item with a different item\n",
    "My_list[0] = \"Juice\"\n",
    "print(My_list)"
   ]
  },
  {
   "cell_type": "code",
   "execution_count": 4,
   "id": "38d430df-d7a3-49e1-8aa6-2b0904601e1f",
   "metadata": {},
   "outputs": [
    {
     "name": "stdout",
     "output_type": "stream",
     "text": [
      "['Juice', 'bananas', 'oranges', 'berries', 'cereal', 'Cantalope']\n"
     ]
    }
   ],
   "source": [
    "#Task 4: Add an item to the end of the list\n",
    "My_list.append(\"Cantalope\")\n",
    "print(My_list)"
   ]
  },
  {
   "cell_type": "code",
   "execution_count": 7,
   "id": "427216db-48ce-440a-ad0c-1b6611e78269",
   "metadata": {},
   "outputs": [
    {
     "name": "stdout",
     "output_type": "stream",
     "text": [
      "apples 9.0\n"
     ]
    }
   ],
   "source": [
    "#Task 5: Create a dictionary of 3 grocery items with their price\n",
    "my_dict = {\"apples\":9.00 , \"Bananas\": 1.59, \"Berries\": 1.90 , \"Juice\":2.50}\n",
    "\n",
    "\n",
    "#Task 6: Print a message showing one item and its price\n",
    "print(\"apples\", my_dict[\"apples\"])"
   ]
  },
  {
   "cell_type": "code",
   "execution_count": 8,
   "id": "46da952a-938e-4b06-a0a5-327f41b8dd1e",
   "metadata": {},
   "outputs": [
    {
     "name": "stdout",
     "output_type": "stream",
     "text": [
      "{'apples': 9.0, 'Bananas': 1.59, 'Berries': 1.9, 'Juice': 2.5, 'Kelp': 3.5}\n"
     ]
    }
   ],
   "source": [
    "#Task 7: Add a new item to the dictionary with its price\n",
    "\n",
    "my_dict.update({\"Kelp\": 3.50})\n",
    "print(my_dict)\n"
   ]
  },
  {
   "cell_type": "code",
   "execution_count": 12,
   "id": "1462423b-8d7f-4914-92e6-54ca20853c26",
   "metadata": {},
   "outputs": [
    {
     "data": {
      "text/plain": [
       "18.49"
      ]
     },
     "execution_count": 12,
     "metadata": {},
     "output_type": "execute_result"
    }
   ],
   "source": [
    "#8 Calculate and print the total cost of all items\n",
    "sum([my_dict[\"apples\"], my_dict[\"Bananas\"], my_dict[\"Berries\"], my_dict[\"Juice\"],my_dict[\"Kelp\"]])"
   ]
  },
  {
   "cell_type": "code",
   "execution_count": 49,
   "id": "806b2b8d-7258-4b76-985b-8126d3fe9aee",
   "metadata": {},
   "outputs": [
    {
     "name": "stdout",
     "output_type": "stream",
     "text": [
      "{'candy': 9.0, 'corn': 1.59, 'coral': 1.9, 'kelp': 2.5}\n"
     ]
    }
   ],
   "source": [
    "#REATTEMPTING Task 7 in a simpler way (i.e not using the .update method): Add a new item to the dictionary with its price\n",
    "\n",
    "Py_dict = {\"candy\":9.00 , \"corn\": 1.59, \"coral\": 1.90 , \"kelp\": 2.50}\n",
    "print(Py_dict)"
   ]
  },
  {
   "cell_type": "code",
   "execution_count": 50,
   "id": "6632b9dc-1c60-467d-9f5f-17648f78521b",
   "metadata": {},
   "outputs": [
    {
     "name": "stdout",
     "output_type": "stream",
     "text": [
      "{'candy': 9.0, 'corn': 1.59, 'coral': 1.9, 'kelp': 2.5, 'Python': 700}\n"
     ]
    }
   ],
   "source": [
    "Py_dict[\"Python\"] = 700\n",
    "print(Py_dict)\n",
    "   "
   ]
  }
 ],
 "metadata": {
  "kernelspec": {
   "display_name": "Python [conda env:base] *",
   "language": "python",
   "name": "conda-base-py"
  },
  "language_info": {
   "codemirror_mode": {
    "name": "ipython",
    "version": 3
   },
   "file_extension": ".py",
   "mimetype": "text/x-python",
   "name": "python",
   "nbconvert_exporter": "python",
   "pygments_lexer": "ipython3",
   "version": "3.13.5"
  }
 },
 "nbformat": 4,
 "nbformat_minor": 5
}
