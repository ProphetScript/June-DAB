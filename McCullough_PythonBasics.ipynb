{
 "cells": [
  {
   "cell_type": "code",
   "execution_count": 1,
   "id": "1438ed87-36f9-4d08-bef0-19b5ca8d92d1",
   "metadata": {},
   "outputs": [],
   "source": [
    "# Introduction to Python - Practice Exercise\n",
    "\n",
    "# Task 1: Variable Declaration and Data Types\n",
    "# Declare variables of different types and print their values and types\n",
    "\n",
    "# Task 3: Basic Operations\n",
    "# Perform arithmetic, comparison, and logical operations with variables\n",
    "\n",
    "# Task 4: Data Collections\n",
    "# Create examples of a list, dictionary, and tuple, then access specific elements\n",
    "\n",
    "# Task 5: Expression Combination\n",
    "# Write an expression that combines multiple operations and variables"
   ]
  },
  {
   "cell_type": "code",
   "execution_count": 3,
   "id": "afb03724-d70c-4a62-83ce-e25acc2bea2e",
   "metadata": {},
   "outputs": [
    {
     "name": "stdout",
     "output_type": "stream",
     "text": [
      "35 <class 'int'>\n",
      "8.308 <class 'float'>\n",
      "Jeremiah <class 'str'>\n",
      "False <class 'bool'>\n"
     ]
    }
   ],
   "source": [
    "# Task 1: Variable Declaration and Data Types\n",
    "# Declare variables of different types and print their values and types\n",
    "int_var = 35\n",
    "float_var = 8.308\n",
    "str_var = \"Jeremiah\"\n",
    "bool_var = False\n",
    "\n",
    "print(int_var, type(int_var))\n",
    "print(float_var, type(float_var))\n",
    "print(str_var, type(str_var))\n",
    "print(bool_var, type(bool_var))\n"
   ]
  },
  {
   "cell_type": "code",
   "execution_count": 4,
   "id": "5fa2a2b4-a0bd-4d3c-9b9d-8cdde5f2b4a8",
   "metadata": {},
   "outputs": [
    {
     "name": "stdout",
     "output_type": "stream",
     "text": [
      "pineapple pizza is actually okay\n",
      "['Pineapple Pizza is actually okay']\n",
      "Pineapple Pizza is not okay\n"
     ]
    }
   ],
   "source": [
    "#Task 2: String Manipulation\n",
    "Example_string=(\"Pineapple Pizza is actually okay\")\n",
    "\n",
    "print(Example_string.lower())                  #Convert into lowercase\n",
    "print(Example_string.split(\",\"))               #Split into a list\n",
    "print(Example_string.replace(\"actually\",\"not\")) #Replace part of the string\n"
   ]
  },
  {
   "cell_type": "code",
   "execution_count": 13,
   "id": "e4c950b4-59b4-4b26-97c4-90e1a748910f",
   "metadata": {},
   "outputs": [
    {
     "name": "stdout",
     "output_type": "stream",
     "text": [
      "6 72 2.0 0 2985984 18 2\n",
      "True False False True True False\n",
      "True True True\n"
     ]
    }
   ],
   "source": [
    "# Task 3: Basic Operations\n",
    "# Perform arithmetic, comparison, and logical operations with variables\n",
    "a, b = 12, 6\n",
    "\n",
    "print (a-b, a*b, a/b, a%b, a**b, a+b, a//b)   #Artihmetic\n",
    "print (a>b, a<b, a==b, a!=b, a>=b, a<=b)      #Comparison\n",
    "print (a>7 and b<7, a>7 or b>a, not(a==b))    #Logical "
   ]
  },
  {
   "cell_type": "code",
   "execution_count": 30,
   "id": "9893d3be-89cd-45bd-bf0b-0eb2c91d70dd",
   "metadata": {},
   "outputs": [
    {
     "name": "stdout",
     "output_type": "stream",
     "text": [
      "6\n",
      "10\n",
      "RI\n"
     ]
    }
   ],
   "source": [
    "# Task 4: Data Collections\n",
    "# Create examples of a list, dictionary, and tuple, then access specific elements\n",
    "my_list = [0,1,2,3,4,5,6,7]\n",
    "my_tuple = (10,20,30)\n",
    "my_dict = {\"Name\":\"Jeremiah\", \"Location\":\"RI\", \"Age\":\"31\"}\n",
    "\n",
    "print(my_list[6])          #Access element from list\n",
    "print(my_tuple[0])         #Access elementt from tuple\n",
    "print(my_dict[\"Location\"]) #Access element from Dictionary\n"
   ]
  },
  {
   "cell_type": "code",
   "execution_count": 29,
   "id": "f9f169e3-d5b0-4132-ba1e-df13fb824d0f",
   "metadata": {},
   "outputs": [
    {
     "name": "stdout",
     "output_type": "stream",
     "text": [
      "Final result: 48.46333333333333\n"
     ]
    }
   ],
   "source": [
    "# Task 5: Expression Combination\n",
    "# Write an expression that combines multiple operations and variables\n",
    "int_var = 35\n",
    "float_var = 8.308\n",
    "a, b = 12, 6\n",
    "result = (int_var * float_var) / (a-b)\n",
    "print(\"Final result:\", result)"
   ]
  },
  {
   "cell_type": "code",
   "execution_count": null,
   "id": "d219dab9-56c3-4024-9188-a542491c68c8",
   "metadata": {},
   "outputs": [],
   "source": []
  }
 ],
 "metadata": {
  "kernelspec": {
   "display_name": "Python [conda env:base] *",
   "language": "python",
   "name": "conda-base-py"
  },
  "language_info": {
   "codemirror_mode": {
    "name": "ipython",
    "version": 3
   },
   "file_extension": ".py",
   "mimetype": "text/x-python",
   "name": "python",
   "nbconvert_exporter": "python",
   "pygments_lexer": "ipython3",
   "version": "3.13.5"
  }
 },
 "nbformat": 4,
 "nbformat_minor": 5
}
