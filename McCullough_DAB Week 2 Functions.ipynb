{
 "cells": [
  {
   "cell_type": "code",
   "execution_count": 157,
   "id": "11c67598-75bf-415b-be9c-0e554d947c12",
   "metadata": {},
   "outputs": [],
   "source": [
    "#Task 1: Basic Function\n",
    "#Task 2: Function with a Parameter\n",
    "#Task 3: Function with Multiple Parameters\n",
    "#Task 4: Function with Default Parameter Values\n",
    "#Task 5: Function that Returns a Value\n",
    "#Task 6: Function Composition\n",
    "#Task 7: Combining Functions and Conditionals\n",
    "#Task 8: Function with Variable Arguments\n",
    "#Task 9: Advanced Challenge - Student Grade Function"
   ]
  },
  {
   "cell_type": "code",
   "execution_count": 158,
   "id": "24be8f2e-978f-4531-986f-68729b1dab35",
   "metadata": {},
   "outputs": [
    {
     "data": {
      "text/plain": [
       "<function __main__.hello_world()>"
      ]
     },
     "execution_count": 158,
     "metadata": {},
     "output_type": "execute_result"
    }
   ],
   "source": [
    "#Task 1: Basic Function\n",
    "def hello_world():                       #Function that prints \"Hello, World\"\n",
    "    print(\"Hello, World!\")\n",
    "\n",
    "hello_world"
   ]
  },
  {
   "cell_type": "code",
   "execution_count": 159,
   "id": "cd24fb0c-3a5c-408a-8058-517337327b80",
   "metadata": {},
   "outputs": [
    {
     "name": "stdout",
     "output_type": "stream",
     "text": [
      "Hello, Penny !\n",
      "Hello, Jeremiah !\n",
      "Hello, Andrew !\n"
     ]
    }
   ],
   "source": [
    "#Task 2: Function with a Parameter\n",
    "name = [\"Jeremiah\",\"Andrew\",\"Penny\"]  \n",
    "\n",
    "def greet(name):                          #Function that greets based off of name entered\n",
    "    print(f\"Hello,\",name,\"!\")\n",
    "\n",
    "greet(\"Penny\")\n",
    "greet(\"Jeremiah\")\n",
    "greet(\"Andrew\")"
   ]
  },
  {
   "cell_type": "code",
   "execution_count": 160,
   "id": "dcb5d299-86f6-4cd4-90f9-3e63cafb200c",
   "metadata": {},
   "outputs": [
    {
     "data": {
      "text/plain": [
       "60"
      ]
     },
     "execution_count": 160,
     "metadata": {},
     "output_type": "execute_result"
    }
   ],
   "source": [
    "#Task 3: Function with Multiple Parameters\n",
    "\n",
    "def calculate_area(Length,Width):          #Function that calculates Area using length and Width\n",
    "    return Length*Width\n",
    "\n",
    "calculate_area(12,5)"
   ]
  },
  {
   "cell_type": "code",
   "execution_count": 161,
   "id": "daa552ac-8c83-4478-baff-6acc6dc93a6e",
   "metadata": {},
   "outputs": [
    {
     "data": {
      "text/plain": [
       "25"
      ]
     },
     "execution_count": 161,
     "metadata": {},
     "output_type": "execute_result"
    }
   ],
   "source": [
    "#Task 4: Function with Default Parameter Values\n",
    "\n",
    "def power(base,exponent):                   #Function that Calculates exponent result\n",
    "    return base**exponent\n",
    "\n",
    "power(5,2)"
   ]
  },
  {
   "cell_type": "code",
   "execution_count": 162,
   "id": "27a83220-e5f7-4778-852c-0ae9c23025e7",
   "metadata": {},
   "outputs": [
    {
     "data": {
      "text/plain": [
       "'Jeremiah James McCullough'"
      ]
     },
     "execution_count": 162,
     "metadata": {},
     "output_type": "execute_result"
    }
   ],
   "source": [
    "#Task 5: Function that Returns a Value\n",
    "\n",
    "def get_full_name(first,middle,last):      #Function that returns full name\n",
    "    return f\"{first} {middle} {last}\".strip()\n",
    "\n",
    "first = \"Jeremiah\"\n",
    "middle= \"James\"\n",
    "last = \"McCullough\"\n",
    "\n",
    "get_full_name(first,middle,last)"
   ]
  },
  {
   "cell_type": "code",
   "execution_count": 163,
   "id": "c6994f4b-c85b-4430-88a0-63aca6f6da3f",
   "metadata": {},
   "outputs": [],
   "source": [
    "#Task 6: Function Composition\n",
    "\n",
    "def celsius_to_fahrenheit(number):          #Function converts C to F\n",
    "    return number*(9/5) + 32\n",
    "\n",
    "def fahrenheit_to_celsius(number):          #Function converts F to C\n",
    "    return (number-32)*(5/9)"
   ]
  },
  {
   "cell_type": "code",
   "execution_count": 164,
   "id": "43c2ea5f-1a21-4c55-abf0-bd7c40a518a7",
   "metadata": {},
   "outputs": [
    {
     "data": {
      "text/plain": [
       "0.0"
      ]
     },
     "execution_count": 164,
     "metadata": {},
     "output_type": "execute_result"
    }
   ],
   "source": [
    "fahrenheit_to_celsius(32)"
   ]
  },
  {
   "cell_type": "code",
   "execution_count": 165,
   "id": "abfc99d1-3817-47be-b722-242a31c73eac",
   "metadata": {},
   "outputs": [
    {
     "data": {
      "text/plain": [
       "100.4"
      ]
     },
     "execution_count": 165,
     "metadata": {},
     "output_type": "execute_result"
    }
   ],
   "source": [
    "celsius_to_fahrenheit(38)"
   ]
  },
  {
   "cell_type": "code",
   "execution_count": 166,
   "id": "2e347c5f-27a5-4daf-aa87-fb51a8ca0e79",
   "metadata": {},
   "outputs": [
    {
     "name": "stdout",
     "output_type": "stream",
     "text": [
      "Cold\n"
     ]
    }
   ],
   "source": [
    "#Task 7: Combining Functions and Conditionals\n",
    "def analyze_temperature(temperature, unit):   #Function converts F to C and returns temperature interpretation\n",
    "    if unit.upper() == \"F\":\n",
    "        temperature = fahrenheit_to_celsius(temperature) \n",
    "    \n",
    "    if temperature<=0:\n",
    "        print(\"Freezing\")\n",
    "    elif 0 < temperature <= 15:\n",
    "        print(\"Cold\")\n",
    "    elif 15 <= temperature <= 25:\n",
    "        print(\"Moderate\")\n",
    "    else:\n",
    "        print(\"Hot\")\n",
    "\n",
    "analyze_temperature(35,\"F\")"
   ]
  },
  {
   "cell_type": "code",
   "execution_count": 167,
   "id": "a62b3187-9442-4f89-93a3-11e8afb173d0",
   "metadata": {},
   "outputs": [],
   "source": [
    "#Task 8: Function with Variable Arguments\n",
    "\n",
    "Name = [Jim,Penny,Josh,Andy]\n",
    "\n",
    "Jim = [100,34,48,29,93,85,92.3]\n",
    "Penny = [100,100,90,80,60,70]\n",
    "Josh = [81,94,50,49,90,79,49]\n",
    "Andy = [100,27,52,101,78,90,80]\n",
    "\n",
    "def calculate_average(Name):                 #Function Retrives Name with score list and returns average score\n",
    "    return sum(Name)/len(Name)"
   ]
  },
  {
   "cell_type": "code",
   "execution_count": 168,
   "id": "b8b8823e-35d9-4e6a-815f-d756393d2ff9",
   "metadata": {},
   "outputs": [
    {
     "data": {
      "text/plain": [
       "83.33333333333333"
      ]
     },
     "execution_count": 168,
     "metadata": {},
     "output_type": "execute_result"
    }
   ],
   "source": [
    "calculate_average(Penny)"
   ]
  },
  {
   "cell_type": "code",
   "execution_count": 171,
   "id": "4c5757df-779b-4f87-ae65-16be1bff2c2a",
   "metadata": {},
   "outputs": [],
   "source": [
    "#Task 9: Advanced Challenge - Student Grade Function\n",
    "\n",
    "Student_name = \"Jeremiah\"\n",
    "scores = (100, 90, 80, 89) \n",
    "\n",
    "def calculate_final_grade(Student_name, *scores):  #Function takes Student name and scores and returns Name, Average score, and final grade.\n",
    "    avg_score = sum(scores)/len(scores)\n",
    "\n",
    "    if avg_score >= 90:\n",
    "        grade = \"A\"\n",
    "    elif 80 <= avg_score:\n",
    "        grade = \"B\"\n",
    "    elif 70 <= avg_score:\n",
    "        grade = \"C\"\n",
    "    elif 60 <= avg_score:\n",
    "        grade = \"D\"\n",
    "    else:\n",
    "        grade = \"F\"\n",
    "    return f\"{Student_name}'s final grade is {avg_score}({grade})\""
   ]
  },
  {
   "cell_type": "code",
   "execution_count": 172,
   "id": "a2783602-4093-4770-9e45-7543b67eb6ae",
   "metadata": {},
   "outputs": [
    {
     "data": {
      "text/plain": [
       "\"Jeremiah's final grade is 89.75(B)\""
      ]
     },
     "execution_count": 172,
     "metadata": {},
     "output_type": "execute_result"
    }
   ],
   "source": [
    "calculate_final_grade(\"Jeremiah\", 100, 90, 80, 89)"
   ]
  }
 ],
 "metadata": {
  "kernelspec": {
   "display_name": "Python [conda env:base] *",
   "language": "python",
   "name": "conda-base-py"
  },
  "language_info": {
   "codemirror_mode": {
    "name": "ipython",
    "version": 3
   },
   "file_extension": ".py",
   "mimetype": "text/x-python",
   "name": "python",
   "nbconvert_exporter": "python",
   "pygments_lexer": "ipython3",
   "version": "3.13.5"
  }
 },
 "nbformat": 4,
 "nbformat_minor": 5
}
