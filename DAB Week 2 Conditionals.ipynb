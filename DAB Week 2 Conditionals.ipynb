{
 "cells": [
  {
   "cell_type": "code",
   "execution_count": null,
   "id": "287fd94f-e5a0-45f9-9eff-74e19340f84a",
   "metadata": {},
   "outputs": [],
   "source": [
    "#Task 1: Basic if Statement\n",
    "#Task 2: if-else Statement\n",
    "#Task 3: if-elif-else Statement\n",
    "#Task 4: Nested Conditionals\n",
    "#Task 5: Ternary Operator\n",
    "#Task 6: Combining Conditions\n",
    "#Task 7: Best Practices (Refactoring)"
   ]
  },
  {
   "cell_type": "code",
   "execution_count": 206,
   "id": "ec1403bf-1f30-4ace-92f7-654f6111a1f4",
   "metadata": {},
   "outputs": [
    {
     "name": "stdout",
     "output_type": "stream",
     "text": [
      "number is positive\n"
     ]
    }
   ],
   "source": [
    "#Task 1: Basic if Statement\n",
    "\n",
    "def check_positive(number):            \n",
    "    if number > 0:\n",
    "        print(\"number is positive\")\n",
    "\n",
    "check_positive(90)"
   ]
  },
  {
   "cell_type": "code",
   "execution_count": 203,
   "id": "ea7d61f1-39d1-411b-8173-764a9cc8fd90",
   "metadata": {},
   "outputs": [
    {
     "name": "stdout",
     "output_type": "stream",
     "text": [
      "passing\n",
      "failure\n"
     ]
    }
   ],
   "source": [
    "#Task 2: if-else Statement\n",
    "\n",
    "def grade_pass_fail(Grade):      \n",
    "    if Grade >= 70:             \n",
    "        print(\"passing\")\n",
    "    else: print(\"failure\")\n",
    "\n",
    "grade_pass_fail(80)\n",
    "grade_pass_fail(41.99)"
   ]
  },
  {
   "cell_type": "code",
   "execution_count": 202,
   "id": "f3409804-6467-4824-a30f-eaf8d340440e",
   "metadata": {},
   "outputs": [
    {
     "name": "stdout",
     "output_type": "stream",
     "text": [
      "B\n",
      "C\n"
     ]
    }
   ],
   "source": [
    "#Task 3: If-elif-else Statement\n",
    "\n",
    "def Scorebook(score):\n",
    "    if score >= 90:\n",
    "        print(\"A\")\n",
    "    elif score >= 80:\n",
    "        print(\"B\")\n",
    "    elif score >= 70:\n",
    "        print(\"C\")\n",
    "    elif score >= 60:\n",
    "        print(\"D\")\n",
    "    else:\n",
    "        print(\"F\")\n",
    "\n",
    "\n",
    "Scorebook(80)\n",
    "Scorebook(75.20)\n"
   ]
  },
  {
   "cell_type": "code",
   "execution_count": 201,
   "id": "7b3b0db1-ce52-4627-bc5f-d6c5089e21f0",
   "metadata": {},
   "outputs": [
    {
     "name": "stdout",
     "output_type": "stream",
     "text": [
      "Welcome, Premium\n"
     ]
    }
   ],
   "source": [
    "#Task 4: Nested Conditionals\n",
    "\n",
    "admin_users = {\"Kris\", \"Kyle\"}\n",
    "basic_users = {\"Jak\", \"Josh\", \"James\", \"Phil\"}\n",
    "premium_users = {\"Jeremiah\"}\n",
    "\n",
    "def check_access(username):\n",
    "    # First level: check if user exists in any group\n",
    "    if username in admin_users or username in premium_users or username in basic_users:\n",
    "        # Second level: determine which group the user belongs to\n",
    "        if username in admin_users:\n",
    "            print(\"Welcome, Admin\")\n",
    "        else:\n",
    "            # Third level: distinguish between premium and basic\n",
    "            if username in premium_users:\n",
    "                print(\"Welcome, Premium\")\n",
    "            else:\n",
    "                print(\"Welcome, Basic user\")\n",
    "    else:\n",
    "        print(\"Hell nah\")\n",
    "\n",
    "\n",
    "check_access(\"Jeremiah\")"
   ]
  },
  {
   "cell_type": "code",
   "execution_count": 200,
   "id": "8bc74911-6a93-4a0f-97b5-949a3829ce61",
   "metadata": {},
   "outputs": [
    {
     "name": "stdout",
     "output_type": "stream",
     "text": [
      "odd\n",
      "even\n"
     ]
    }
   ],
   "source": [
    "#Task 5: Ternary Operator\n",
    "def check_even_odd(number):\n",
    "    if number % 2 == 0:\n",
    "        print(\"even\")\n",
    "    else: print(\"odd\")\n",
    "\n",
    "check_even_odd(9) #Expected result odd\n",
    "\n",
    "check_even_odd(8) #Expected result even"
   ]
  },
  {
   "cell_type": "code",
   "execution_count": 168,
   "id": "7a37a5e7-272e-40cd-bd2a-a2ced20735a3",
   "metadata": {},
   "outputs": [],
   "source": [
    "#Task 6: Combining Conditions\n",
    "\n",
    "def is_leap_year(year)\n",
    "    print(year % 4 == 0"
   ]
  },
  {
   "cell_type": "code",
   "execution_count": 207,
   "id": "b4e0254f-d704-4f0e-991e-9db4c1d68e13",
   "metadata": {},
   "outputs": [],
   "source": [
    "#Task 7: Best Practices (Refactoring)\n",
    "\n",
    "def classify_item(item_type: str, price: float, in_stock: bool) -> str:\n",
    "    \"\"\"\n",
    "    Classifies an item based on its type, price, and availability.\n",
    "    \n",
    "    Args:\n",
    "        item_type (str): Type of the item ('electronics' or other).\n",
    "        price (float): Price of the item.\n",
    "        in_stock (bool): Whether the item is in stock.\n",
    "        \n",
    "    Returns:\n",
    "        str: Classification description of the item.\n",
    "    \"\"\"\n",
    "    # Determine category based on price\n",
    "    category = \"Premium\" if price >= 100 else \"Affordable\"\n",
    "    \n",
    "    # Determine item type description\n",
    "    type_description = \"electronics\" if item_type == \"electronics\" else \"non-electronics\"\n",
    "    \n",
    "    # Determine availability status\n",
    "    availability = \"in stock\" if in_stock else \"out of stock\"\n",
    "    \n",
    "    # Combine all parts to form the classification\n",
    "    return f\"{category} {type_description} {availability}\""
   ]
  },
  {
   "cell_type": "code",
   "execution_count": null,
   "id": "4a678db8-ec13-4e7a-a457-484db87a6455",
   "metadata": {},
   "outputs": [],
   "source": []
  }
 ],
 "metadata": {
  "kernelspec": {
   "display_name": "Python [conda env:base] *",
   "language": "python",
   "name": "conda-base-py"
  },
  "language_info": {
   "codemirror_mode": {
    "name": "ipython",
    "version": 3
   },
   "file_extension": ".py",
   "mimetype": "text/x-python",
   "name": "python",
   "nbconvert_exporter": "python",
   "pygments_lexer": "ipython3",
   "version": "3.13.5"
  }
 },
 "nbformat": 4,
 "nbformat_minor": 5
}
